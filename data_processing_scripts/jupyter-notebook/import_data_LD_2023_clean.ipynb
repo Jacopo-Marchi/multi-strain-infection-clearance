{
 "cells": [
  {
   "cell_type": "code",
   "execution_count": 2,
   "metadata": {},
   "outputs": [
    {
     "name": "stdout",
     "output_type": "stream",
     "text": [
      "1.5.3\n"
     ]
    }
   ],
   "source": [
    "import os\n",
    "import sys\n",
    "sys.path.append('..')\n",
    "import numpy as np\n",
    "#from lib.mppaper import *\n",
    "#import lib.mpsetup as mpsetup\n",
    "import shutil\n",
    "import pandas as pd\n",
    "%matplotlib inline\n",
    "\n",
    "import warnings\n",
    "import scipy.stats as st\n",
    "import matplotlib\n",
    "import matplotlib.pyplot as plt\n",
    "print(pd.__version__)"
   ]
  },
  {
   "cell_type": "code",
   "execution_count": 11,
   "metadata": {},
   "outputs": [
    {
     "name": "stdout",
     "output_type": "stream",
     "text": [
      "23-02-2023\n",
      "46.975 546.5681250000001 11.635298030867485\n",
      "361111111.1111111 58214163.988576606 0.16120845412221213\n",
      "8.913809976558094e-09\n",
      "03-03-2023\n",
      "60.475 5107.055625000001 84.44903885903267\n",
      "1550000000.0 619750683.009635 0.39983915032879674\n",
      "inf\n",
      "10-03-2023-A\n",
      "61.25 7446.4375 121.57448979591837\n",
      "1120000000.0 490917508.3453431 0.43831920387977064\n",
      "inf\n",
      "10-03-2023-B\n"
     ]
    },
    {
     "name": "stderr",
     "output_type": "stream",
     "text": [
      "/var/folders/5b/7gmk2zpj2s186j6rvkm7z_rc0000gn/T/ipykernel_29636/1085896875.py:40: RuntimeWarning: divide by zero encountered in log\n",
      "  print(-np.log(np.count_nonzero(LD_PAK==0)/LD_PAK.size)/mean_totbac)\n",
      "/var/folders/5b/7gmk2zpj2s186j6rvkm7z_rc0000gn/T/ipykernel_29636/1085896875.py:40: RuntimeWarning: divide by zero encountered in log\n",
      "  print(-np.log(np.count_nonzero(LD_PAK==0)/LD_PAK.size)/mean_totbac)\n",
      "/var/folders/5b/7gmk2zpj2s186j6rvkm7z_rc0000gn/T/ipykernel_29636/1085896875.py:40: RuntimeWarning: divide by zero encountered in log\n",
      "  print(-np.log(np.count_nonzero(LD_PAK==0)/LD_PAK.size)/mean_totbac)\n",
      "/var/folders/5b/7gmk2zpj2s186j6rvkm7z_rc0000gn/T/ipykernel_29636/1085896875.py:40: RuntimeWarning: divide by zero encountered in log\n",
      "  print(-np.log(np.count_nonzero(LD_PAK==0)/LD_PAK.size)/mean_totbac)\n"
     ]
    },
    {
     "name": "stdout",
     "output_type": "stream",
     "text": [
      "54.175 3074.850625 56.75774111675127\n",
      "905000000.0 269216033.5627741 0.2974762801798609\n",
      "inf\n",
      "11-03-2023\n",
      "92.775 75224.393125 810.826118296955\n",
      "470000000.0 64666979.06828633 0.13758931716656667\n",
      "inf\n",
      "22-06-2023\n",
      "55.5 9691.25 174.61711711711712\n",
      "595000000.0 68738635.4243376 0.11552711836023126\n",
      "inf\n"
     ]
    },
    {
     "name": "stderr",
     "output_type": "stream",
     "text": [
      "/var/folders/5b/7gmk2zpj2s186j6rvkm7z_rc0000gn/T/ipykernel_29636/1085896875.py:40: RuntimeWarning: divide by zero encountered in log\n",
      "  print(-np.log(np.count_nonzero(LD_PAK==0)/LD_PAK.size)/mean_totbac)\n"
     ]
    }
   ],
   "source": [
    "\n",
    "\n",
    "sheets_dict = pd.read_excel('../../data/PAK_P1_LD2023_uniform.xlsx', sheet_name=None)\n",
    "\n",
    "\n",
    "file_out='../../data/Luria_delbruck_test_forbz_all_PAK_2024_corrected.txt'\n",
    "\n",
    "if os.path.isfile(file_out):\n",
    "    os.remove(file_out)\n",
    "\n",
    "all_sheets = []\n",
    "for name, sheet in list(sheets_dict.items()):\n",
    "    print(name)\n",
    "    df = pd.read_excel('../../data/PAK_P1_LD2023_uniform.xlsx', skiprows=2, usecols='B',  header = None,  engine='openpyxl', sheet_name=name)\n",
    "    #df_exp1df_exp1.head()\n",
    "    LD_array=df.to_numpy(copy=True)*10./8. #divided by 8 to account for 3 divisions after mixing with phage\n",
    "    #print(LD_array)\n",
    "\n",
    "    df_totbac = pd.read_excel('../../data/PAK_P1_LD2023_uniform.xlsx', skiprows=2, usecols='H',  header = None, sheet_name=name)\n",
    "    \n",
    "    totbac_array=df_totbac.to_numpy(copy=True)\n",
    "    totbac_array=totbac_array[(np.isfinite(totbac_array))&(totbac_array>0)]*2.\n",
    "\n",
    "\n",
    "    # compute basic statistics of the dataset\n",
    "\n",
    "    LD_PAK= LD_array[:,0]\n",
    "\n",
    "\n",
    "\n",
    "    mean_PAK=np.mean(LD_PAK)\n",
    "    var_PAK=np.var(LD_PAK)\n",
    "\n",
    "    print(mean_PAK, var_PAK, var_PAK/mean_PAK)\n",
    "\n",
    "\n",
    "    mean_totbac=np.mean(totbac_array)\n",
    "    std_totbac=np.std(totbac_array)\n",
    "\n",
    "    print(mean_totbac, std_totbac, std_totbac/mean_totbac)\n",
    "\n",
    "    print(-np.log(np.count_nonzero(LD_PAK==0)/LD_PAK.size)/mean_totbac)\n",
    "    \n",
    "    \n",
    "    #save data for bz rates\n",
    "    \n",
    "    \n",
    " \n",
    "    \n",
    "    #totbact_avg_allexp_PAK = np.full(LD_PAK.size, mean_totbac)\n",
    "    totbact_avg_allexp_PAK = np.abs(np.random.normal(mean_totbac, std_totbac, LD_PAK.size ))\n",
    "\n",
    "    data_PAK = np.array([LD_PAK, totbact_avg_allexp_PAK])\n",
    "    \n",
    "\n",
    "\n",
    "\n",
    "    #file_out='../../data/Luria_delbruck_test_forbz_all_PAK_2023_{name}.txt'.format(name=name)\n",
    "\n",
    "    with open(file_out,'a') as f_handle:\n",
    "        np.savetxt(f_handle, data_PAK.T, fmt='%i', delimiter=' ')\n",
    "        #f_handle.write(\"\\n\")\n",
    "    \n",
    "    \n",
    "\n",
    "    file_out_exp='../../data/Luria_delbruck_test_forbz_all_PAK_2024_{name}.txt'.format(name=name)\n",
    "    if os.path.isfile(file_out_exp):\n",
    "        os.remove(file_out_exp)\n",
    "\n",
    "    with open(file_out_exp,'w') as f_handle:\n",
    "        np.savetxt(f_handle, data_PAK.T, fmt='%i', delimiter=' ')\n",
    "        #f_handle.write(\"\\n\")\n",
    "    \n",
    "    \n",
    "    \n",
    "    "
   ]
  },
  {
   "cell_type": "code",
   "execution_count": 12,
   "metadata": {},
   "outputs": [
    {
     "name": "stdout",
     "output_type": "stream",
     "text": [
      "03-05-2023\n",
      "121.875 136227.765625 1117.7662820512821\n",
      "560000000.0 101801946.75759578 0.18178919063856389\n",
      "inf\n",
      "04-05-2023-A\n",
      "105.225 67449.91812500001 641.006587075315\n",
      "595000000.0 81044320.08587535 0.13620894132079892\n",
      "inf\n"
     ]
    },
    {
     "name": "stderr",
     "output_type": "stream",
     "text": [
      "/var/folders/5b/7gmk2zpj2s186j6rvkm7z_rc0000gn/T/ipykernel_29636/3843162681.py:40: RuntimeWarning: divide by zero encountered in log\n",
      "  print(-np.log(np.count_nonzero(LD_PAK==0)/LD_PAK.size)/mean_totbac)\n",
      "/var/folders/5b/7gmk2zpj2s186j6rvkm7z_rc0000gn/T/ipykernel_29636/3843162681.py:40: RuntimeWarning: divide by zero encountered in log\n",
      "  print(-np.log(np.count_nonzero(LD_PAK==0)/LD_PAK.size)/mean_totbac)\n"
     ]
    },
    {
     "name": "stdout",
     "output_type": "stream",
     "text": [
      "04-05-2023-B\n",
      "103.825 22344.400625 215.2121418251866\n",
      "605000000.0 113718152.38482457 0.18796388823937946\n",
      "inf\n",
      "08-05-2023-B\n",
      "96.35 12951.739999999998 134.4238713025428\n",
      "545000000.0 115699453.91558093 0.2122925759918916\n",
      "inf\n",
      "08-05-2023-A\n",
      "90.25 24211.75 268.27423822714684\n",
      "550000000.0 149240501.4489273 0.2713463662707769\n",
      "inf\n",
      "22-06-2023\n",
      "125.5 49996.75 398.3804780876494\n",
      "665000000.0 191939858.0048164 0.28863136542077655\n",
      "5.882741361546084e-09\n"
     ]
    },
    {
     "name": "stderr",
     "output_type": "stream",
     "text": [
      "/var/folders/5b/7gmk2zpj2s186j6rvkm7z_rc0000gn/T/ipykernel_29636/3843162681.py:40: RuntimeWarning: divide by zero encountered in log\n",
      "  print(-np.log(np.count_nonzero(LD_PAK==0)/LD_PAK.size)/mean_totbac)\n",
      "/var/folders/5b/7gmk2zpj2s186j6rvkm7z_rc0000gn/T/ipykernel_29636/3843162681.py:40: RuntimeWarning: divide by zero encountered in log\n",
      "  print(-np.log(np.count_nonzero(LD_PAK==0)/LD_PAK.size)/mean_totbac)\n",
      "/var/folders/5b/7gmk2zpj2s186j6rvkm7z_rc0000gn/T/ipykernel_29636/3843162681.py:40: RuntimeWarning: divide by zero encountered in log\n",
      "  print(-np.log(np.count_nonzero(LD_PAK==0)/LD_PAK.size)/mean_totbac)\n"
     ]
    }
   ],
   "source": [
    "\n",
    "file_out='../../data/Luria_delbruck_test_forbz_LUZ_all_2024_corrected.txt'\n",
    "\n",
    "\n",
    "sheets_dict = pd.read_excel('../../data/LUZ19_LD2023_uniform.xlsx', sheet_name=None)\n",
    "\n",
    "if os.path.isfile(file_out):\n",
    "    os.remove(file_out)\n",
    "\n",
    "all_sheets = []\n",
    "for name, sheet in list(sheets_dict.items()):\n",
    "    print(name)\n",
    "    df = pd.read_excel('../../data/LUZ19_LD2023_uniform.xlsx', skiprows=3, usecols='B',  header = None,  engine='openpyxl', sheet_name=name)\n",
    "    #print(df)\n",
    "    LD_array=df.to_numpy(copy=True)*10./8. #divided by 8 to account for 3 divisions after mixing with phage\n",
    "    #print(LD_array)\n",
    "\n",
    "    df_totbac = pd.read_excel('../../data/LUZ19_LD2023_uniform.xlsx', skiprows=3, usecols='K',  header = None, sheet_name=name)\n",
    "    \n",
    "    totbac_array=df_totbac.to_numpy(copy=True)\n",
    "    totbac_array=totbac_array[(np.isfinite(totbac_array))&(totbac_array>0)]*2.\n",
    "\n",
    "\n",
    "    # compute basic statistics of the dataset\n",
    "\n",
    "    LD_PAK= LD_array[:,0]\n",
    "\n",
    "\n",
    "\n",
    "    mean_PAK=np.mean(LD_PAK)\n",
    "    var_PAK=np.var(LD_PAK)\n",
    "\n",
    "    print(mean_PAK, var_PAK, var_PAK/mean_PAK)\n",
    "\n",
    "\n",
    "    mean_totbac=np.mean(totbac_array)\n",
    "    std_totbac=np.std(totbac_array)\n",
    "\n",
    "    print(mean_totbac, std_totbac, std_totbac/mean_totbac)\n",
    "\n",
    "    print(-np.log(np.count_nonzero(LD_PAK==0)/LD_PAK.size)/mean_totbac)\n",
    "    \n",
    "    \n",
    "    #save data for bz rates\n",
    "    \n",
    "    \n",
    "    #totbact_avg_allexp_PAK = np.full(LD_PAK.size, mean_totbac)\n",
    "    totbact_avg_allexp_PAK = np.random.normal(mean_totbac, std_totbac, LD_PAK.size )\n",
    "\n",
    "    data_PAK = np.array([LD_PAK, totbact_avg_allexp_PAK])\n",
    "    \n",
    "\n",
    "\n",
    "\n",
    "    with open(file_out,'a') as f_handle:\n",
    "        np.savetxt(f_handle, data_PAK.T, fmt='%i', delimiter=' ')\n",
    "        #f_handle.write(\"\\n\")\n",
    "    \n",
    "    \n",
    "    \n",
    "\n",
    "    file_out_exp='../../data/Luria_delbruck_test_forbz_all_LUZ_2024_{name}.txt'.format(name=name)\n",
    "    if os.path.isfile(file_out_exp):\n",
    "        os.remove(file_out_exp)\n",
    "\n",
    "    with open(file_out_exp,'w') as f_handle:\n",
    "        np.savetxt(f_handle, data_PAK.T, fmt='%i', delimiter=' ')\n",
    "        #f_handle.write(\"\\n\")\n",
    "    \n",
    "    \n",
    "    "
   ]
  },
  {
   "cell_type": "code",
   "execution_count": null,
   "metadata": {},
   "outputs": [],
   "source": []
  }
 ],
 "metadata": {
  "kernelspec": {
   "display_name": "Python 3 (ipykernel)",
   "language": "python",
   "name": "python3"
  },
  "language_info": {
   "codemirror_mode": {
    "name": "ipython",
    "version": 3
   },
   "file_extension": ".py",
   "mimetype": "text/x-python",
   "name": "python",
   "nbconvert_exporter": "python",
   "pygments_lexer": "ipython3",
   "version": "3.10.9"
  }
 },
 "nbformat": 4,
 "nbformat_minor": 2
}
